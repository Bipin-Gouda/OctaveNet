{
  "nbformat": 4,
  "nbformat_minor": 0,
  "metadata": {
    "colab": {
      "provenance": []
    },
    "kernelspec": {
      "name": "python3",
      "display_name": "Python 3"
    },
    "language_info": {
      "name": "python"
    },
    "gpuClass": "standard",
    "accelerator": "GPU",
    "widgets": {
      "application/vnd.jupyter.widget-state+json": {
        "77142d65e2734091914e0640b5300dd2": {
          "model_module": "@jupyter-widgets/controls",
          "model_name": "HBoxModel",
          "model_module_version": "1.5.0",
          "state": {
            "_dom_classes": [],
            "_model_module": "@jupyter-widgets/controls",
            "_model_module_version": "1.5.0",
            "_model_name": "HBoxModel",
            "_view_count": null,
            "_view_module": "@jupyter-widgets/controls",
            "_view_module_version": "1.5.0",
            "_view_name": "HBoxView",
            "box_style": "",
            "children": [
              "IPY_MODEL_f540e40e7afb40bc8eef6c62af120751",
              "IPY_MODEL_6cfb63dee6bc4d03af21dd6731f4bc3a",
              "IPY_MODEL_9f0bf7ae5e7a4d15b4d5de26223d4260"
            ],
            "layout": "IPY_MODEL_4f4b358d214e43e6a054086655a4eebc"
          }
        },
        "f540e40e7afb40bc8eef6c62af120751": {
          "model_module": "@jupyter-widgets/controls",
          "model_name": "HTMLModel",
          "model_module_version": "1.5.0",
          "state": {
            "_dom_classes": [],
            "_model_module": "@jupyter-widgets/controls",
            "_model_module_version": "1.5.0",
            "_model_name": "HTMLModel",
            "_view_count": null,
            "_view_module": "@jupyter-widgets/controls",
            "_view_module_version": "1.5.0",
            "_view_name": "HTMLView",
            "description": "",
            "description_tooltip": null,
            "layout": "IPY_MODEL_5306f04739e44a2e8c4f60ba299d8d78",
            "placeholder": "​",
            "style": "IPY_MODEL_662575cf133444789d0cd60c1e47e59b",
            "value": "100%"
          }
        },
        "6cfb63dee6bc4d03af21dd6731f4bc3a": {
          "model_module": "@jupyter-widgets/controls",
          "model_name": "FloatProgressModel",
          "model_module_version": "1.5.0",
          "state": {
            "_dom_classes": [],
            "_model_module": "@jupyter-widgets/controls",
            "_model_module_version": "1.5.0",
            "_model_name": "FloatProgressModel",
            "_view_count": null,
            "_view_module": "@jupyter-widgets/controls",
            "_view_module_version": "1.5.0",
            "_view_name": "ProgressView",
            "bar_style": "success",
            "description": "",
            "description_tooltip": null,
            "layout": "IPY_MODEL_dcc14d02601b4e718764eae2b2ffdb9f",
            "max": 46827520,
            "min": 0,
            "orientation": "horizontal",
            "style": "IPY_MODEL_a921b777165f46cfa04e9e79366e4e64",
            "value": 46827520
          }
        },
        "9f0bf7ae5e7a4d15b4d5de26223d4260": {
          "model_module": "@jupyter-widgets/controls",
          "model_name": "HTMLModel",
          "model_module_version": "1.5.0",
          "state": {
            "_dom_classes": [],
            "_model_module": "@jupyter-widgets/controls",
            "_model_module_version": "1.5.0",
            "_model_name": "HTMLModel",
            "_view_count": null,
            "_view_module": "@jupyter-widgets/controls",
            "_view_module_version": "1.5.0",
            "_view_name": "HTMLView",
            "description": "",
            "description_tooltip": null,
            "layout": "IPY_MODEL_97faaac4667e422d9510f6e6045ce641",
            "placeholder": "​",
            "style": "IPY_MODEL_8cb44a6208304af99aed6e4edba30e9f",
            "value": " 44.7M/44.7M [00:00&lt;00:00, 135MB/s]"
          }
        },
        "4f4b358d214e43e6a054086655a4eebc": {
          "model_module": "@jupyter-widgets/base",
          "model_name": "LayoutModel",
          "model_module_version": "1.2.0",
          "state": {
            "_model_module": "@jupyter-widgets/base",
            "_model_module_version": "1.2.0",
            "_model_name": "LayoutModel",
            "_view_count": null,
            "_view_module": "@jupyter-widgets/base",
            "_view_module_version": "1.2.0",
            "_view_name": "LayoutView",
            "align_content": null,
            "align_items": null,
            "align_self": null,
            "border": null,
            "bottom": null,
            "display": null,
            "flex": null,
            "flex_flow": null,
            "grid_area": null,
            "grid_auto_columns": null,
            "grid_auto_flow": null,
            "grid_auto_rows": null,
            "grid_column": null,
            "grid_gap": null,
            "grid_row": null,
            "grid_template_areas": null,
            "grid_template_columns": null,
            "grid_template_rows": null,
            "height": null,
            "justify_content": null,
            "justify_items": null,
            "left": null,
            "margin": null,
            "max_height": null,
            "max_width": null,
            "min_height": null,
            "min_width": null,
            "object_fit": null,
            "object_position": null,
            "order": null,
            "overflow": null,
            "overflow_x": null,
            "overflow_y": null,
            "padding": null,
            "right": null,
            "top": null,
            "visibility": null,
            "width": null
          }
        },
        "5306f04739e44a2e8c4f60ba299d8d78": {
          "model_module": "@jupyter-widgets/base",
          "model_name": "LayoutModel",
          "model_module_version": "1.2.0",
          "state": {
            "_model_module": "@jupyter-widgets/base",
            "_model_module_version": "1.2.0",
            "_model_name": "LayoutModel",
            "_view_count": null,
            "_view_module": "@jupyter-widgets/base",
            "_view_module_version": "1.2.0",
            "_view_name": "LayoutView",
            "align_content": null,
            "align_items": null,
            "align_self": null,
            "border": null,
            "bottom": null,
            "display": null,
            "flex": null,
            "flex_flow": null,
            "grid_area": null,
            "grid_auto_columns": null,
            "grid_auto_flow": null,
            "grid_auto_rows": null,
            "grid_column": null,
            "grid_gap": null,
            "grid_row": null,
            "grid_template_areas": null,
            "grid_template_columns": null,
            "grid_template_rows": null,
            "height": null,
            "justify_content": null,
            "justify_items": null,
            "left": null,
            "margin": null,
            "max_height": null,
            "max_width": null,
            "min_height": null,
            "min_width": null,
            "object_fit": null,
            "object_position": null,
            "order": null,
            "overflow": null,
            "overflow_x": null,
            "overflow_y": null,
            "padding": null,
            "right": null,
            "top": null,
            "visibility": null,
            "width": null
          }
        },
        "662575cf133444789d0cd60c1e47e59b": {
          "model_module": "@jupyter-widgets/controls",
          "model_name": "DescriptionStyleModel",
          "model_module_version": "1.5.0",
          "state": {
            "_model_module": "@jupyter-widgets/controls",
            "_model_module_version": "1.5.0",
            "_model_name": "DescriptionStyleModel",
            "_view_count": null,
            "_view_module": "@jupyter-widgets/base",
            "_view_module_version": "1.2.0",
            "_view_name": "StyleView",
            "description_width": ""
          }
        },
        "dcc14d02601b4e718764eae2b2ffdb9f": {
          "model_module": "@jupyter-widgets/base",
          "model_name": "LayoutModel",
          "model_module_version": "1.2.0",
          "state": {
            "_model_module": "@jupyter-widgets/base",
            "_model_module_version": "1.2.0",
            "_model_name": "LayoutModel",
            "_view_count": null,
            "_view_module": "@jupyter-widgets/base",
            "_view_module_version": "1.2.0",
            "_view_name": "LayoutView",
            "align_content": null,
            "align_items": null,
            "align_self": null,
            "border": null,
            "bottom": null,
            "display": null,
            "flex": null,
            "flex_flow": null,
            "grid_area": null,
            "grid_auto_columns": null,
            "grid_auto_flow": null,
            "grid_auto_rows": null,
            "grid_column": null,
            "grid_gap": null,
            "grid_row": null,
            "grid_template_areas": null,
            "grid_template_columns": null,
            "grid_template_rows": null,
            "height": null,
            "justify_content": null,
            "justify_items": null,
            "left": null,
            "margin": null,
            "max_height": null,
            "max_width": null,
            "min_height": null,
            "min_width": null,
            "object_fit": null,
            "object_position": null,
            "order": null,
            "overflow": null,
            "overflow_x": null,
            "overflow_y": null,
            "padding": null,
            "right": null,
            "top": null,
            "visibility": null,
            "width": null
          }
        },
        "a921b777165f46cfa04e9e79366e4e64": {
          "model_module": "@jupyter-widgets/controls",
          "model_name": "ProgressStyleModel",
          "model_module_version": "1.5.0",
          "state": {
            "_model_module": "@jupyter-widgets/controls",
            "_model_module_version": "1.5.0",
            "_model_name": "ProgressStyleModel",
            "_view_count": null,
            "_view_module": "@jupyter-widgets/base",
            "_view_module_version": "1.2.0",
            "_view_name": "StyleView",
            "bar_color": null,
            "description_width": ""
          }
        },
        "97faaac4667e422d9510f6e6045ce641": {
          "model_module": "@jupyter-widgets/base",
          "model_name": "LayoutModel",
          "model_module_version": "1.2.0",
          "state": {
            "_model_module": "@jupyter-widgets/base",
            "_model_module_version": "1.2.0",
            "_model_name": "LayoutModel",
            "_view_count": null,
            "_view_module": "@jupyter-widgets/base",
            "_view_module_version": "1.2.0",
            "_view_name": "LayoutView",
            "align_content": null,
            "align_items": null,
            "align_self": null,
            "border": null,
            "bottom": null,
            "display": null,
            "flex": null,
            "flex_flow": null,
            "grid_area": null,
            "grid_auto_columns": null,
            "grid_auto_flow": null,
            "grid_auto_rows": null,
            "grid_column": null,
            "grid_gap": null,
            "grid_row": null,
            "grid_template_areas": null,
            "grid_template_columns": null,
            "grid_template_rows": null,
            "height": null,
            "justify_content": null,
            "justify_items": null,
            "left": null,
            "margin": null,
            "max_height": null,
            "max_width": null,
            "min_height": null,
            "min_width": null,
            "object_fit": null,
            "object_position": null,
            "order": null,
            "overflow": null,
            "overflow_x": null,
            "overflow_y": null,
            "padding": null,
            "right": null,
            "top": null,
            "visibility": null,
            "width": null
          }
        },
        "8cb44a6208304af99aed6e4edba30e9f": {
          "model_module": "@jupyter-widgets/controls",
          "model_name": "DescriptionStyleModel",
          "model_module_version": "1.5.0",
          "state": {
            "_model_module": "@jupyter-widgets/controls",
            "_model_module_version": "1.5.0",
            "_model_name": "DescriptionStyleModel",
            "_view_count": null,
            "_view_module": "@jupyter-widgets/base",
            "_view_module_version": "1.2.0",
            "_view_name": "StyleView",
            "description_width": ""
          }
        }
      }
    }
  },
  "cells": [
    {
      "cell_type": "code",
      "execution_count": 1,
      "metadata": {
        "colab": {
          "base_uri": "https://localhost:8080/"
        },
        "id": "WQviMhTOe2ov",
        "outputId": "4b27525c-4e19-4a2d-de5f-e40def43f714"
      },
      "outputs": [
        {
          "output_type": "stream",
          "name": "stdout",
          "text": [
            "Installing Libraries... Done.\n",
            "Downloading and Extracting Datasets... Done.\n",
            "Downloading OctaveNet Pretrained Weights... Done.\n",
            "Preparation was completed.\n"
          ]
        }
      ],
      "source": [
        "import os, sys\n",
        "os.system(\"git clone https://github.com/farhadinima75/OctaveNet.git\")\n",
        "sys.path.append('/content/OctaveNet')\n",
        "from Modules.Utils import PrepareLibrariesAndDatasets\n",
        "PrepareLibrariesAndDatasets()\n",
        "exit() # Restarting to use newly installed libraries."
      ]
    },
    {
      "cell_type": "code",
      "source": [
        "import os, sys, torch, warnings\n",
        "sys.path.append('/content/OctaveNet')\n",
        "from Modules.Utils import Test, SeedAll\n",
        "warnings.filterwarnings(\"ignore\")\n",
        "\n",
        "if __name__ == '__main__': \n",
        "  #####################################\n",
        "  Dataset = 'CropLand' # 'WHU' 'LEVIR' 'CropLand' 'DSIFN'\n",
        "  #####################################\n",
        "  SeedAll(seed=2022)\n",
        "  BatchSize = 16\n",
        "  Classes = 2\n",
        "  Device = 'cuda' if torch.cuda.is_available() else 'cpu'\n",
        "  Workers = os.cpu_count()\n",
        "  torch.set_num_threads(Workers)\n",
        "  ModelDir = '/content/OctaveNet/Output'\n",
        "  DatasetDirs = {'DSIFN':    '/content/OctaveNet/Datasets/DSIFN-CD-256',\n",
        "                 'CropLand': '/content/OctaveNet/Datasets/CropLand-CD-256',\n",
        "                 'LEVIR':    '/content/OctaveNet/Datasets/LEVIR-CD-256',\n",
        "                 'WHU':      '/content/OctaveNet/Datasets/WHU-CD-256'}\n",
        "  DatasetDir = DatasetDirs[Dataset]\n",
        "\n",
        "  for Dims in [[64, 32, 16, 16], [32, 16, 8, 8], [8, 8, 8, 8]]:\n",
        "    LoadStateDictPath = f'/content/OctaveNet/Models/OctaveNet{Dims[0]}_{Dataset}.pt'\n",
        "    print(f'Tesing OctaveNet{Dims[0]} on {Dataset}...')\n",
        "    Test(DatasetDir, LoadStateDictPath, Dims, f'{Dims[0]}',\n",
        "        BatchSize, Classes, Device, ModelDir, Workers, Dataset)"
      ],
      "metadata": {
        "colab": {
          "base_uri": "https://localhost:8080/",
          "height": 499,
          "referenced_widgets": [
            "77142d65e2734091914e0640b5300dd2",
            "f540e40e7afb40bc8eef6c62af120751",
            "6cfb63dee6bc4d03af21dd6731f4bc3a",
            "9f0bf7ae5e7a4d15b4d5de26223d4260",
            "4f4b358d214e43e6a054086655a4eebc",
            "5306f04739e44a2e8c4f60ba299d8d78",
            "662575cf133444789d0cd60c1e47e59b",
            "dcc14d02601b4e718764eae2b2ffdb9f",
            "a921b777165f46cfa04e9e79366e4e64",
            "97faaac4667e422d9510f6e6045ce641",
            "8cb44a6208304af99aed6e4edba30e9f"
          ]
        },
        "id": "f530l9lsogpQ",
        "outputId": "620ed25b-c7ca-4404-acc7-a6d4fe5ff4b9"
      },
      "execution_count": 1,
      "outputs": [
        {
          "output_type": "stream",
          "name": "stdout",
          "text": [
            "Tesing OctaveNet64 on CropLand...\n"
          ]
        },
        {
          "output_type": "stream",
          "name": "stderr",
          "text": [
            "Downloading: \"https://download.pytorch.org/models/resnet18-5c106cde.pth\" to /root/.cache/torch/hub/checkpoints/resnet18-5c106cde.pth\n"
          ]
        },
        {
          "output_type": "display_data",
          "data": {
            "text/plain": [
              "  0%|          | 0.00/44.7M [00:00<?, ?B/s]"
            ],
            "application/vnd.jupyter.widget-view+json": {
              "version_major": 2,
              "version_minor": 0,
              "model_id": "77142d65e2734091914e0640b5300dd2"
            }
          },
          "metadata": {}
        },
        {
          "output_type": "stream",
          "name": "stderr",
          "text": [
            "Testing...: 100%|██████████| 30/30 [00:08<00:00,  3.68it/s]\n"
          ]
        },
        {
          "output_type": "stream",
          "name": "stdout",
          "text": [
            "Predicted change map and color-coded comparision is located in:            \u001b[96m/content/OctaveNet/Output/OctaveNet64_CropLand\u001b[0m\n",
            "Also a zip file is created to download the whole output in a single file:  \u001b[96m/content/OctaveNet/Output/Output_OctaveNet64_CropLand.zip\u001b[0m\n",
            "All Metrics are saved in:                                                  \u001b[96m/content/OctaveNet/Output/TestMetrics.txt\u001b[0m\n",
            "\u001b[92mFor OctaveNet64_CropLand  Acc: 96.79  Kappa: 75.51  IoU: 62.90  F1: 77.23  Precision: 81.85  Recall: 73.10\u001b[0m\n",
            "\u001b[93m#####################################################\u001b[0m\n",
            "\u001b[93m#####################################################\u001b[0m\n",
            "Tesing OctaveNet32 on CropLand...\n"
          ]
        },
        {
          "output_type": "stream",
          "name": "stderr",
          "text": [
            "Testing...: 100%|██████████| 30/30 [00:07<00:00,  4.18it/s]\n"
          ]
        },
        {
          "output_type": "stream",
          "name": "stdout",
          "text": [
            "Predicted change map and color-coded comparision is located in:            \u001b[96m/content/OctaveNet/Output/OctaveNet32_CropLand\u001b[0m\n",
            "Also a zip file is created to download the whole output in a single file:  \u001b[96m/content/OctaveNet/Output/Output_OctaveNet32_CropLand.zip\u001b[0m\n",
            "All Metrics are saved in:                                                  \u001b[96m/content/OctaveNet/Output/TestMetrics.txt\u001b[0m\n",
            "\u001b[92mFor OctaveNet32_CropLand  Acc: 96.54  Kappa: 74.05  IoU: 61.17  F1: 75.91  Precision: 78.68  Recall: 73.33\u001b[0m\n",
            "\u001b[93m#####################################################\u001b[0m\n",
            "\u001b[93m#####################################################\u001b[0m\n",
            "Tesing OctaveNet8 on CropLand...\n"
          ]
        },
        {
          "output_type": "stream",
          "name": "stderr",
          "text": [
            "Testing...: 100%|██████████| 30/30 [00:07<00:00,  4.22it/s]\n"
          ]
        },
        {
          "output_type": "stream",
          "name": "stdout",
          "text": [
            "Predicted change map and color-coded comparision is located in:            \u001b[96m/content/OctaveNet/Output/OctaveNet8_CropLand\u001b[0m\n",
            "Also a zip file is created to download the whole output in a single file:  \u001b[96m/content/OctaveNet/Output/Output_OctaveNet8_CropLand.zip\u001b[0m\n",
            "All Metrics are saved in:                                                  \u001b[96m/content/OctaveNet/Output/TestMetrics.txt\u001b[0m\n",
            "\u001b[92mFor OctaveNet8_CropLand  Acc: 96.47  Kappa: 73.09  IoU: 59.97  F1: 74.98  Precision: 79.37  Recall: 71.05\u001b[0m\n",
            "\u001b[93m#####################################################\u001b[0m\n",
            "\u001b[93m#####################################################\u001b[0m\n"
          ]
        }
      ]
    }
  ]
}